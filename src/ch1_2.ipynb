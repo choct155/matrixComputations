{
 "cells": [
  {
   "cell_type": "markdown",
   "id": "7a31ead4",
   "metadata": {},
   "source": [
    "# Exercise 1.2.4\n",
    "Prove that if $A^{-1}$ exists then there can be no nonzero $y$ for which $Ay=0$"
   ]
  },
  {
   "cell_type": "markdown",
   "id": "8f192ffa",
   "metadata": {},
   "source": [
    "$$A^{-1}Ay=A^{-1}0$$"
   ]
  },
  {
   "cell_type": "markdown",
   "id": "bff01840",
   "metadata": {},
   "source": [
    "$$AA^{-1}=A^{-1}A=I$$"
   ]
  },
  {
   "cell_type": "markdown",
   "id": "cf4245fc",
   "metadata": {},
   "source": [
    "$$Iy=A^{-1}0$$"
   ]
  },
  {
   "cell_type": "markdown",
   "id": "78e6cb79",
   "metadata": {},
   "source": [
    "$$Iy=0$$"
   ]
  },
  {
   "cell_type": "markdown",
   "id": "7ea1e4c6",
   "metadata": {},
   "source": [
    "if $A^{-1}$ exists and $Ay=0$, then $y$ must $=0$"
   ]
  },
  {
   "cell_type": "markdown",
   "id": "5f558db1",
   "metadata": {},
   "source": [
    "# Exercise 1.2.5\n",
    "Prove that if $A^{-1}$ exists then $det(A)\\not=0$"
   ]
  },
  {
   "cell_type": "markdown",
   "id": "804910e0",
   "metadata": {},
   "source": [
    "\\begin{equation}\n",
    "    A=\n",
    "    \\left[\n",
    "    \\begin{array}{cc}\n",
    "        A_{11} & A_{12} \\\\\n",
    "        A_{21} & A_{22} \\\\\n",
    "    \\end{array}\n",
    "    \\right]\n",
    "\\end{equation}\n",
    "\n",
    "\\begin{equation}\n",
    "    I=\n",
    "    \\left[\n",
    "    \\begin{array}{cc}\n",
    "        1 & 0 \\\\\n",
    "        0 & 1 \\\\\n",
    "    \\end{array}\n",
    "    \\right]\n",
    "\\end{equation}"
   ]
  },
  {
   "cell_type": "markdown",
   "id": "5eddfa22",
   "metadata": {},
   "source": [
    "$$AA^{-1}=A^{-1}A=I$$"
   ]
  },
  {
   "cell_type": "markdown",
   "id": "8daa1235",
   "metadata": {},
   "source": [
    "$$det(AA^{-1})=det(I)$$"
   ]
  },
  {
   "cell_type": "markdown",
   "id": "aa4d3659",
   "metadata": {},
   "source": [
    "$$det(I)=(1*1)-(0*0)=1$$"
   ]
  },
  {
   "cell_type": "markdown",
   "id": "5ab5ad0a",
   "metadata": {},
   "source": [
    "$$det(A)det(A^{-1})=1$$"
   ]
  },
  {
   "cell_type": "markdown",
   "id": "d41aa57c",
   "metadata": {},
   "source": [
    "$$det(A)\\not=0$$"
   ]
  },
  {
   "cell_type": "markdown",
   "id": "9e92c365",
   "metadata": {},
   "source": [
    " $$det(A^{-1})=\\frac{1}{det(A)}=\\frac{1}{A_{11}A_{22}-A_{21}A_{12}}$$"
   ]
  },
  {
   "cell_type": "markdown",
   "id": "421cd8ed",
   "metadata": {},
   "source": [
    "# Exercise 1.2.7"
   ]
  },
  {
   "cell_type": "code",
   "execution_count": 2,
   "id": "4e901a02",
   "metadata": {},
   "outputs": [
    {
     "name": "stdout",
     "output_type": "stream",
     "text": [
      "tf.Tensor(\n",
      "[[3.0638294]\n",
      " [2.4255316]\n",
      " [3.7021272]\n",
      " [1.148936 ]], shape=(4, 1), dtype=float32)\n"
     ]
    }
   ],
   "source": [
    "from matrixcomp.ch1_2 import solve_for_x\n",
    "import tensorflow as tf"
   ]
  },
  {
   "cell_type": "markdown",
   "id": "a088e080",
   "metadata": {},
   "source": [
    "# Exercise 1.2.9"
   ]
  },
  {
   "cell_type": "markdown",
   "id": "3ff978f5",
   "metadata": {},
   "source": [
    "#### loop 1\n",
    "$$5(x_{1}-x_{2})+1x_{1}+1x_{1}+2x_{1}=0$$"
   ]
  },
  {
   "cell_type": "markdown",
   "id": "e6dc881f",
   "metadata": {},
   "source": [
    "$$9x_{1}-5x_{2} = 0 $$"
   ]
  },
  {
   "cell_type": "markdown",
   "id": "a7a9fabf",
   "metadata": {},
   "source": [
    "#### loop 2 $$5(x_{2}-x_{1})+1x_{2}-6+2x_{2}=0$$"
   ]
  },
  {
   "cell_type": "markdown",
   "id": "b0c48c92",
   "metadata": {},
   "source": [
    "$$-5x_{1}+8x_{2} = 6 $$"
   ]
  },
  {
   "cell_type": "markdown",
   "id": "d6fb79b8",
   "metadata": {},
   "source": [
    "\\begin{equation}\n",
    "    \\left[\n",
    "    \\begin{array}{cc}\n",
    "        9 & -5 \\\\\n",
    "        -5 & 8 \\\\\n",
    "    \\end{array}\n",
    "    \\right]\n",
    "    \\left[\n",
    "    \\begin{array}{c}\n",
    "        x_{1} \\\\\n",
    "        x_{2} \\\\\n",
    "    \\end{array}\n",
    "    \\right]\n",
    "    =\n",
    "    \\left[\n",
    "    \\begin{array}{c}\n",
    "        0 \\\\\n",
    "        6 \\\\\n",
    "    \\end{array}\n",
    "    \\right]\n",
    "\\end{equation}"
   ]
  },
  {
   "cell_type": "markdown",
   "id": "76e16545",
   "metadata": {},
   "source": [
    "##### check that the coefficient matrix is nonsingular"
   ]
  },
  {
   "cell_type": "markdown",
   "id": "5d8cc150",
   "metadata": {},
   "source": [
    "\\begin{equation}\n",
    "    det\n",
    "    \\left[\n",
    "        \\begin{array}{cc}\n",
    "        9 & -5 \\\\\n",
    "        -5 & 8 \\\\\n",
    "    \\end{array}\n",
    "    \\right]\n",
    "    =\n",
    "    (9*8)-(-5*-5)=47\n",
    "\\end{equation}"
   ]
  },
  {
   "cell_type": "code",
   "execution_count": 3,
   "id": "9e25284c",
   "metadata": {},
   "outputs": [],
   "source": [
    "loops_coefficient: tf.Tensor = tf.constant([[9.0, -5.0], [-5.0, 8.0]])\n",
    "loops_b_matrix: tf.Tensor = tf.constant([[0.0], [6.0]])"
   ]
  },
  {
   "cell_type": "code",
   "execution_count": 4,
   "id": "baa3985d",
   "metadata": {},
   "outputs": [],
   "source": [
    "solution: tf.Tensor = solve_for_x(loops_coefficient, loops_b_matrix)"
   ]
  },
  {
   "cell_type": "code",
   "execution_count": 5,
   "id": "fc7ba7a0",
   "metadata": {},
   "outputs": [
    {
     "name": "stdout",
     "output_type": "stream",
     "text": [
      "tf.Tensor(\n",
      "[[0.63829786]\n",
      " [1.1489362 ]], shape=(2, 1), dtype=float32)\n"
     ]
    }
   ],
   "source": [
    "print(solution)"
   ]
  },
  {
   "cell_type": "markdown",
   "id": "7743ff0c",
   "metadata": {},
   "source": [
    "# Exercise 1.2.11"
   ]
  },
  {
   "cell_type": "markdown",
   "id": "b523677b",
   "metadata": {},
   "source": [
    "#### cart 1\n",
    "$$-4x_{1}+4(x_{2}-x_{1})+1=0$$\n",
    "$$-4x_{1}+4x_{2}-4x_{1}+1=0$$\n",
    "$$-8x_{1}+4x_{2}=-1$$\n",
    "$$8x_{1}-4x_{2}+0x_{3}=1$$"
   ]
  },
  {
   "cell_type": "markdown",
   "id": "406eec5c",
   "metadata": {},
   "source": [
    "#### cart 2\n",
    "$$-4(x_{2}-x_{1})+4(x_{3}-x_{2})+2=0$$\n",
    "$$-4x_{2}+4x_{1}+4x_{3}-4x_{2}+2=0$$\n",
    "$$-8x_{2}+4x_{1}+4x_{3}=-2$$\n",
    "$$-4x_{1}+8x_{2}-4x_{3}=2$$\n"
   ]
  },
  {
   "cell_type": "markdown",
   "id": "7296e07b",
   "metadata": {},
   "source": [
    "#### cart 3\n",
    "$$-4x_{3}-4(x_{3}-x_{2})+3=0$$\n",
    "$$-4x_{3}-4x_{3}+4x_{2}+3=0$$\n",
    "$$-8x_{3}+4x_{2}=-3$$\n",
    "$$0x_{1}-4x_{2}+8x_{3}=3$$"
   ]
  },
  {
   "cell_type": "markdown",
   "id": "ec3b4ae5",
   "metadata": {},
   "source": [
    "\\begin{equation}\n",
    "    \\left[\n",
    "    \\begin{array}{ccc}\n",
    "        8 & -4 & 0\\\\\n",
    "        -4 & 8 & -4\\\\\n",
    "        0 & -4 & 8\\\\\n",
    "    \\end{array}\n",
    "    \\right]\n",
    "    \\left[\n",
    "    \\begin{array}{c}\n",
    "        x_{1} \\\\\n",
    "        x_{2} \\\\\n",
    "        x_{3} \\\\\n",
    "    \\end{array}\n",
    "    \\right]\n",
    "    =\n",
    "    \\left[\n",
    "    \\begin{array}{c}\n",
    "        1 \\\\\n",
    "        2 \\\\\n",
    "        3 \\\\\n",
    "    \\end{array}\n",
    "    \\right]\n",
    "\\end{equation}"
   ]
  },
  {
   "cell_type": "markdown",
   "id": "17acdc60",
   "metadata": {},
   "source": [
    "##### check that the coefficient matrix is nonsingular"
   ]
  },
  {
   "cell_type": "markdown",
   "id": "244885c9",
   "metadata": {},
   "source": [
    "\\begin{equation}\n",
    "    det\n",
    "    \\left[\n",
    "    \\begin{array}{ccc}\n",
    "        8 & -4 & 0\\\\\n",
    "        -4 & 8 & -4\\\\\n",
    "        0 & -4 & 8\\\\\n",
    "    \\end{array}\n",
    "    \\right]\n",
    "    =\n",
    "    8det\n",
    "    \\left[\n",
    "        \\begin{array}{cc}\n",
    "        8 & -4 \\\\\n",
    "        -4 & 8 \\\\\n",
    "    \\end{array}\n",
    "    \\right]\n",
    "    -\n",
    "    (-4)det\n",
    "    \\left[\n",
    "        \\begin{array}{cc}\n",
    "        -4 & -4 \\\\\n",
    "        0 & 8 \\\\\n",
    "    \\end{array}\n",
    "    \\right]\n",
    "    +\n",
    "    0det\n",
    "    \\left[\n",
    "        \\begin{array}{cc}\n",
    "        -4 & 8 \\\\\n",
    "        0 & -4 \\\\\n",
    "    \\end{array}\n",
    "    \\right]\n",
    "\\end{equation}"
   ]
  },
  {
   "cell_type": "markdown",
   "id": "edbbe862",
   "metadata": {},
   "source": [
    "$$det = 8((8*8)-(-4*-4))-(-4)((-4*8)-(4*0))+0 = 384 - 128 = 256 $$"
   ]
  },
  {
   "cell_type": "code",
   "execution_count": 6,
   "id": "def8017a",
   "metadata": {},
   "outputs": [],
   "source": [
    "spring_coefficient: tf.Tensor = tf.constant([[8.0, -4.0, 0.0], [-4.0, 8.0, -4.0], [0.0, -4.0, 8.0]])\n",
    "spring_b_matrix: tf.Tensor = tf.constant([[1.0], [2.0], [3.0]])"
   ]
  },
  {
   "cell_type": "code",
   "execution_count": 7,
   "id": "f8a59e33",
   "metadata": {},
   "outputs": [],
   "source": [
    "spring_solution = tf.Tensor = solve_for_x(spring_coefficient, spring_b_matrix)"
   ]
  },
  {
   "cell_type": "code",
   "execution_count": 8,
   "id": "ed808400",
   "metadata": {},
   "outputs": [
    {
     "name": "stdout",
     "output_type": "stream",
     "text": [
      "tf.Tensor(\n",
      "[[0.62500006]\n",
      " [1.0000001 ]\n",
      " [0.8750001 ]], shape=(3, 1), dtype=float32)\n"
     ]
    }
   ],
   "source": [
    "print(spring_solution)"
   ]
  },
  {
   "cell_type": "markdown",
   "id": "5cbe72af",
   "metadata": {},
   "source": [
    "# Exercise 1.2.16"
   ]
  },
  {
   "cell_type": "markdown",
   "id": "1238191f",
   "metadata": {},
   "source": [
    "(a) $m=8$ and $h=1/8$"
   ]
  },
  {
   "cell_type": "markdown",
   "id": "9c96f6a3",
   "metadata": {},
   "source": [
    "\\begin{equation}\n",
    "    \\left[\n",
    "    \\begin{array}{ccccccc}\n",
    "        128+d & -64+4c & 0 & 0 & 0 & 0 & 0\\\\\n",
    "        -64-4c & 128+d & -64+4c & 0 & 0 & 0 & 0\\\\\n",
    "        0 & -64+4c & 0 & 0 & 0 & 0 & 0\\\\\n",
    "        0 & 0 & -64+4c & 0 & 0 & 0 & 0\\\\\n",
    "        0 & 0 & 0 & 0 & 0 & 0 & 0\\\\\n",
    "        0 & 0 & 0 & 0 & -64-4c & 128+d & -64+3c\\\\\n",
    "        0 & 0 & 0 & 0 & 0 & -64-4c & 128+d\\\\\n",
    "    \\end{array}\n",
    "    \\right]\n",
    "    \\left[\n",
    "    \\begin{array}{c}\n",
    "        u_{1} \\\\\n",
    "        u_{2} \\\\\n",
    "        u_{3} \\\\\n",
    "        u_{4} \\\\\n",
    "        u_{5} \\\\\n",
    "        u_{6} \\\\\n",
    "        u_{7} \\\\\n",
    "    \\end{array}\n",
    "    \\right]\n",
    "    =\n",
    "    \\left[\n",
    "    \\begin{array}{c}\n",
    "        f_{1} \\\\\n",
    "        f_{2} \\\\\n",
    "        f_{3} \\\\\n",
    "        f_{4} \\\\\n",
    "        f_{5} \\\\\n",
    "        f_{6} \\\\\n",
    "        f_{7} \\\\\n",
    "    \\end{array}\n",
    "    \\right]\n",
    "\\end{equation}"
   ]
  },
  {
   "cell_type": "markdown",
   "id": "9e4033a3",
   "metadata": {},
   "source": [
    "(b) $m=20$ and $h=1/20$"
   ]
  },
  {
   "cell_type": "markdown",
   "id": "4f8d4e12",
   "metadata": {},
   "source": [
    "\\begin{equation}\n",
    "    \\left[\n",
    "    \\begin{array}{ccccccccccccccccccc}\n",
    "    \\end{array}\n",
    "    \\right]\n",
    "    \\left[\n",
    "    \\begin{array}{c}\n",
    "        u_{1} \\\\\n",
    "        u_{2} \\\\\n",
    "        u_{3} \\\\\n",
    "        u_{4} \\\\\n",
    "        u_{5} \\\\\n",
    "        u_{6} \\\\\n",
    "        u_{7} \\\\\n",
    "        u_{8} \\\\\n",
    "        u_{9} \\\\\n",
    "        u_{10} \\\\\n",
    "        u_{11} \\\\\n",
    "        u_{12} \\\\\n",
    "        u_{13} \\\\\n",
    "        u_{14} \\\\\n",
    "        u_{15} \\\\\n",
    "        u_{16} \\\\\n",
    "        u_{17} \\\\\n",
    "        u_{18} \\\\\n",
    "        u_{19} \\\\\n",
    "    \\end{array}\n",
    "    \\right]\n",
    "    =\n",
    "    \\left[\n",
    "    \\begin{array}{c}\n",
    "        f_{1} \\\\\n",
    "        f_{2} \\\\\n",
    "        f_{3} \\\\\n",
    "        f_{4} \\\\\n",
    "        f_{5} \\\\\n",
    "        f_{6} \\\\\n",
    "        f_{7} \\\\\n",
    "        f_{8} \\\\\n",
    "        f_{9} \\\\\n",
    "        f_{10} \\\\\n",
    "        f_{11} \\\\\n",
    "        f_{12} \\\\\n",
    "        f_{13} \\\\\n",
    "        f_{14} \\\\\n",
    "        f_{15} \\\\\n",
    "        f_{16} \\\\\n",
    "        f_{17} \\\\\n",
    "        f_{18} \\\\\n",
    "        f_{19} \\\\\n",
    "    \\end{array}\n",
    "    \\right]\n",
    "\\end{equation}"
   ]
  },
  {
   "cell_type": "markdown",
   "id": "60675aa3",
   "metadata": {},
   "source": [
    "# Exercise 1.2.17"
   ]
  },
  {
   "cell_type": "markdown",
   "id": "88397751",
   "metadata": {},
   "source": [
    "$$12x_{1}-2x_{2}+0x_{3}-10x_{4}+0x_{5}+0x_{6}+0x_{7}=0$$"
   ]
  },
  {
   "cell_type": "markdown",
   "id": "3c070b7c",
   "metadata": {},
   "source": [
    "$$-2x_{1}+9x_{2}-5x_{3}+0x_{4}-2x_{5}+0x_{6}+0x_{7}=0$$"
   ]
  },
  {
   "cell_type": "markdown",
   "id": "de7f8cbf",
   "metadata": {},
   "source": [
    "$$0x_{1}-5x_{2}+15x_{3}+0x_{4}+0x_{5}-10x_{6}+0x_{7}=0$$"
   ]
  },
  {
   "cell_type": "markdown",
   "id": "e5de5238",
   "metadata": {},
   "source": [
    "$$-10x_{1}+0x_{2}+0x_{3}+25x_{4}-10x_{5}+0x_{6}-5x_{7}=0$$"
   ]
  },
  {
   "cell_type": "markdown",
   "id": "c86771ea",
   "metadata": {},
   "source": [
    "$$0x_{1}-2x_{2}+0x_{3}-10x_{4}+24x_{5}-2x_{6}+0x_{7}=90$$"
   ]
  },
  {
   "cell_type": "markdown",
   "id": "bf93fea1",
   "metadata": {},
   "source": [
    "$$0x_{1}+0x_{2}-10x_{3}+0x_{4}-2x_{5}+17x_{6}+0x_{7}=0$$"
   ]
  },
  {
   "cell_type": "markdown",
   "id": "a327a2fd",
   "metadata": {},
   "source": [
    "$$0x_{1}+0x_{2}+0x_{3}-5x_{4}+0x_{5}+0x_{6}+10x_{7}=45$$"
   ]
  },
  {
   "cell_type": "markdown",
   "id": "005e797d",
   "metadata": {},
   "source": [
    "\\begin{equation}\n",
    "    \\left[\n",
    "    \\begin{array}{ccccccc}\n",
    "        12 & -2 & 0 & -10 & 0 & 0 & 0\\\\\n",
    "        -2 & 9 & -5 & 0 & -2 & 0 & 0\\\\\n",
    "        0 & -5 & 15 & 0 & 0 & -10 & 0\\\\\n",
    "        -10 & 0 & 0 & 25 & -10 & 0 & -5\\\\\n",
    "        0 & -2 & 0 & -10 & 24 & -2 & 0\\\\\n",
    "        0 & 0 & -10 & 0 & -2 & 17 & 0\\\\\n",
    "        0 & 0 & 0 & -5 & 0 & 0 & 10\\\\\n",
    "    \\end{array}\n",
    "    \\right]\n",
    "    \\left[\n",
    "    \\begin{array}{c}\n",
    "        x_{1} \\\\\n",
    "        x_{2} \\\\\n",
    "        x_{3} \\\\\n",
    "        x_{4} \\\\\n",
    "        x_{5} \\\\\n",
    "        x_{6} \\\\\n",
    "        x_{7} \\\\\n",
    "    \\end{array}\n",
    "    \\right]\n",
    "    =\n",
    "    \\left[\n",
    "    \\begin{array}{c}\n",
    "        0 \\\\\n",
    "        0 \\\\\n",
    "        0 \\\\\n",
    "        0 \\\\\n",
    "        90 \\\\\n",
    "        0 \\\\\n",
    "        45 \\\\\n",
    "    \\end{array}\n",
    "    \\right]\n",
    "\\end{equation}"
   ]
  },
  {
   "cell_type": "code",
   "execution_count": 9,
   "id": "852f82eb",
   "metadata": {},
   "outputs": [],
   "source": [
    "voltages_coefficient: tf.Tensor = tf.constant([[12.0, -2.0, 0.0, -10.0, 0.0, 0.0, 0.0], \n",
    "                                               [-2.0, 9.0, -5.0, 0.0, -2.0, 0.0, 0.0],\n",
    "                                               [0.0, -5.0, 15.0, 0.0, 0.0, -10.0, 0.0],\n",
    "                                               [-10.0, 0.0, 0.0, 25.0, -10.0, 0.0, -5.0],\n",
    "                                               [0.0, -2.0, 0.0, -10.0, 24.0, -2.0, 0.0],\n",
    "                                               [0.0, 0.0, -10.0, 0.0, -2.0, 17.0, 0.0],\n",
    "                                               [0.0, 0.0, 0.0, -5.0, 0.0, 0.0, 10.0]\n",
    "                                              ])\n",
    "voltages_b_matrix: tf.Tensor = tf.constant([[0.0], [0.0], [0.0], [0.0], [90.0], [0.0], [45.0]])"
   ]
  },
  {
   "cell_type": "code",
   "execution_count": 10,
   "id": "eeb45200",
   "metadata": {},
   "outputs": [],
   "source": [
    "voltage_solution = tf.Tensor = solve_for_x(voltages_coefficient, voltages_b_matrix)"
   ]
  },
  {
   "cell_type": "code",
   "execution_count": 11,
   "id": "85e1faed",
   "metadata": {},
   "outputs": [
    {
     "name": "stdout",
     "output_type": "stream",
     "text": [
      "tf.Tensor(\n",
      "[[7.324737 ]\n",
      " [5.5898747]\n",
      " [4.0572357]\n",
      " [7.6717095]\n",
      " [7.686611 ]\n",
      " [3.2909162]\n",
      " [8.335855 ]], shape=(7, 1), dtype=float32)\n"
     ]
    }
   ],
   "source": [
    "print(voltage_solution)"
   ]
  },
  {
   "cell_type": "markdown",
   "id": "6fd9f2ee",
   "metadata": {},
   "source": [
    "Calculate the residual $r=b-A\\hat{x}$"
   ]
  },
  {
   "cell_type": "code",
   "execution_count": 12,
   "id": "494a286e",
   "metadata": {},
   "outputs": [],
   "source": [
    "from matrixcomp.ch1_2 import residual"
   ]
  },
  {
   "cell_type": "code",
   "execution_count": 13,
   "id": "e8a18b2f",
   "metadata": {},
   "outputs": [
    {
     "data": {
      "text/plain": [
       "<tf.Tensor: id=13, shape=(7, 1), dtype=float32, numpy=\n",
       "array([[0.0000000e+00],\n",
       "       [3.8146973e-06],\n",
       "       [0.0000000e+00],\n",
       "       [7.6293945e-06],\n",
       "       [7.6293945e-06],\n",
       "       [3.8146973e-06],\n",
       "       [3.8146973e-06]], dtype=float32)>"
      ]
     },
     "execution_count": 13,
     "metadata": {},
     "output_type": "execute_result"
    }
   ],
   "source": [
    "residual(voltages_coefficient, voltages_b_matrix, voltage_solution)"
   ]
  },
  {
   "cell_type": "markdown",
   "id": "3a568331",
   "metadata": {},
   "source": [
    "# Exercise 1.2.18"
   ]
  },
  {
   "cell_type": "markdown",
   "id": "98354bb6",
   "metadata": {},
   "source": [
    "##### part (a)"
   ]
  },
  {
   "cell_type": "markdown",
   "id": "c15df3df",
   "metadata": {},
   "source": [
    "$$1.2x_{1}-.1x_{2}-.5x_{3}+0x_{4}=0$$"
   ]
  },
  {
   "cell_type": "markdown",
   "id": "80931f48",
   "metadata": {},
   "source": [
    "$$-.1x_{1}+.6x_{2}+0x_{3}-.1x_{4}=0$$"
   ]
  },
  {
   "cell_type": "markdown",
   "id": "c56b081a",
   "metadata": {},
   "source": [
    "$$-.5x_{1}+0x_{2}+1.3x_{3}-.5x_{4}=0$$"
   ]
  },
  {
   "cell_type": "markdown",
   "id": "1346bd6c",
   "metadata": {},
   "source": [
    "$$0x_{1}-.1x_{2}-.5x_{3}+8x_{4}=9$$"
   ]
  },
  {
   "cell_type": "markdown",
   "id": "af6bc312",
   "metadata": {},
   "source": [
    "\\begin{equation}\n",
    "    \\left[\n",
    "    \\begin{array}{cccc}\n",
    "        1.2 & -0.1 & -0.5 & 0\\\\\n",
    "        -0.1 & 0.6 & 0 & -0.1\\\\\n",
    "        -0.5 & 0 & 1.3 & -0.5\\\\\n",
    "        0 & -0.1 & -0.5 & 0.8\\\\\n",
    "    \\end{array}\n",
    "    \\right]\n",
    "    \\left[\n",
    "    \\begin{array}{c}\n",
    "        x_{1} \\\\\n",
    "        x_{2} \\\\\n",
    "        x_{3} \\\\\n",
    "        x_{4} \\\\\n",
    "    \\end{array}\n",
    "    \\right]\n",
    "    =\n",
    "    \\left[\n",
    "    \\begin{array}{c}\n",
    "        0 \\\\\n",
    "        0 \\\\\n",
    "        0 \\\\\n",
    "        9 \\\\\n",
    "    \\end{array}\n",
    "    \\right]\n",
    "\\end{equation}"
   ]
  },
  {
   "cell_type": "code",
   "execution_count": 14,
   "id": "d76b33da",
   "metadata": {},
   "outputs": [],
   "source": [
    "loops_coefficient: tf.Tensor = tf.constant([[1.2, -0.1, -0.5, 0.0], \n",
    "                                               [-0.1, 0.6, 0.0, -0.1],\n",
    "                                               [-0.5, 0.0, 1.3, -0.5],\n",
    "                                               [0.0, -0.1, -0.5, 0.8],\n",
    "                                              ])\n",
    "loops_b_matrix: tf.Tensor = tf.constant([[0.0], [0.0], [0.0], [9.0]])"
   ]
  },
  {
   "cell_type": "code",
   "execution_count": 15,
   "id": "cc89e797",
   "metadata": {},
   "outputs": [],
   "source": [
    "loops_solution = tf.Tensor = solve_for_x(loops_coefficient, loops_b_matrix)"
   ]
  },
  {
   "cell_type": "markdown",
   "id": "b3d2f6a4",
   "metadata": {},
   "source": [
    "##### part (b)"
   ]
  },
  {
   "cell_type": "code",
   "execution_count": 16,
   "id": "cea9205b",
   "metadata": {},
   "outputs": [
    {
     "name": "stdout",
     "output_type": "stream",
     "text": [
      "tf.Tensor(\n",
      "[[ 3.4697258]\n",
      " [ 3.3207192]\n",
      " [ 7.6631985]\n",
      " [16.45459  ]], shape=(4, 1), dtype=float32)\n"
     ]
    }
   ],
   "source": [
    "print(loops_solution)"
   ]
  },
  {
   "cell_type": "code",
   "execution_count": 17,
   "id": "d6716970",
   "metadata": {},
   "outputs": [
    {
     "data": {
      "text/plain": [
       "<tf.Tensor: id=18, shape=(4, 1), dtype=float32, numpy=\n",
       "array([[ 2.3841858e-07],\n",
       "       [ 0.0000000e+00],\n",
       "       [ 9.5367432e-07],\n",
       "       [-9.5367432e-07]], dtype=float32)>"
      ]
     },
     "execution_count": 17,
     "metadata": {},
     "output_type": "execute_result"
    }
   ],
   "source": [
    "residual(loops_coefficient, loops_b_matrix, loops_solution)"
   ]
  },
  {
   "cell_type": "markdown",
   "id": "88f08165",
   "metadata": {},
   "source": [
    "##### part (c)"
   ]
  },
  {
   "cell_type": "markdown",
   "id": "b928c3ee",
   "metadata": {},
   "source": [
    "$$(V_{n_{1}}-V_{n_{2}})=0.2I_{x_{3}}$$"
   ]
  },
  {
   "cell_type": "markdown",
   "id": "bf66adc1",
   "metadata": {},
   "source": [
    "$$(V_{n_{1}}-V_{n_{2}})=0.2(3.4697258-7.6631985)$$"
   ]
  },
  {
   "cell_type": "markdown",
   "id": "2f9e7861",
   "metadata": {},
   "source": [
    "$$(V_{n_{1}}-V_{n_{2}})= $$"
   ]
  },
  {
   "cell_type": "markdown",
   "id": "ec23dbb0",
   "metadata": {},
   "source": [
    "$$(V_{n_{1}}-V_{n_{3}})=0.5I_{x_{1}-x_{3}}$$"
   ]
  },
  {
   "cell_type": "markdown",
   "id": "4d4d8e37",
   "metadata": {},
   "source": [
    "##### part (d)"
   ]
  },
  {
   "cell_type": "markdown",
   "id": "03df930c",
   "metadata": {},
   "source": [
    "$$(V_{x_{1}}-V_{x_{2}})=0.5I_{R_{1}}$$"
   ]
  },
  {
   "cell_type": "markdown",
   "id": "5154b556",
   "metadata": {},
   "source": [
    "$$(7.324737-5.5898747)=0.5I_{R_{1}}$$"
   ]
  },
  {
   "cell_type": "markdown",
   "id": "b0653b6d",
   "metadata": {},
   "source": [
    "$$(1.7348623) * 2 = 3.4697246 $$"
   ]
  },
  {
   "cell_type": "markdown",
   "id": "8a9e1ff9",
   "metadata": {},
   "source": [
    "# Exercise 1.2.19"
   ]
  },
  {
   "cell_type": "markdown",
   "id": "8fe6db38",
   "metadata": {},
   "source": [
    "$$3x_{1}-1x_{2}+0x_{3}-1x_{4}+0x_{5}+0x_{6}+0x_{7}+0x_{8}+0x_{9}=0$$\n",
    "$$-1x_{1}+4x_{2}-1x_{3}+0x_{4}-1x_{5}+0x_{6}+0x_{7}+0x_{8}+0x_{9}=0$$\n",
    "$$0x_{1}-1x_{2}+3x_{3}+0x_{4}+0x_{5}-1x_{6}+0x_{7}+0x_{8}+0x_{9}=0$$\n",
    "$$-1x_{1}+0x_{2}+0x_{3}+4x_{4}-1x_{5}+0x_{6}-1x_{7}+0x_{8}+0x_{9}=0$$\n",
    "$$0x_{1}-1x_{2}+0x_{3}-1x_{4}+4x_{5}-1x_{6}+0x_{7}-1x_{8}+0x_{9}=0$$\n",
    "$$0x_{1}+0x_{2}-1x_{3}+0x_{4}-1x_{5}+4x_{6}+0x_{7}+0x_{8}-1x_{9}=0$$\n",
    "$$0x_{1}+0x_{2}+0x_{3}-1x_{4}+0x_{5}+0x_{6}+3x_{7}-1x_{8}+0x_{9}=0$$\n",
    "$$0x_{1}+0x_{2}+0x_{3}+0x_{4}-1x_{5}+0x_{6}-1x_{7}+4x_{8}-1x_{9}=0$$\n",
    "$$0x_{1}+0x_{2}+0x_{3}+0x_{4}+0x_{5}-1x_{6}+0x_{7}-1x_{8}+3x_{9}=9$$"
   ]
  },
  {
   "cell_type": "markdown",
   "id": "6fb430bb",
   "metadata": {},
   "source": [
    "\\begin{equation}\n",
    "    \\left[\n",
    "    \\begin{array}{ccccccc}\n",
    "        3 & -1 & 0 & -1 & 0 & 0 & 0 & 0 & 0\\\\\n",
    "        -1 & 4 & -1 & 0 & -1 & 0 & 0 & 0 & 0\\\\\n",
    "        0 & -1 & 3 & 0 & 0 & -1 & 0 & 0 & 0\\\\\n",
    "        -1 & 0 & 0 & 4 & -1 & 0 & -1 & 0 & 0\\\\\n",
    "        0 & -1 & 0 & -1 & 4 & -1 & 0 & -1 & 0\\\\\n",
    "        0 & 0 & -1 & 0 & -1 & 4 & 0 & 0 & -1\\\\\n",
    "        0 & 0 & 0 & -1 & 0 & 0 & 3 & -1 & 0\\\\\n",
    "        0 & 0 & 0 & 0 & -1 & 0 & -1 & 4 & -1\\\\\n",
    "        0 & 0 & 0 & 0 & 0 & -1 & 0 & -1 & 3\\\\\n",
    "    \\end{array}\n",
    "    \\right]\n",
    "    \\left[\n",
    "    \\begin{array}{c}\n",
    "        x_{1} \\\\\n",
    "        x_{2} \\\\\n",
    "        x_{3} \\\\\n",
    "        x_{4} \\\\\n",
    "        x_{5} \\\\\n",
    "        x_{6} \\\\\n",
    "        x_{7} \\\\\n",
    "        x_{8} \\\\\n",
    "        x_{9} \\\\\n",
    "    \\end{array}\n",
    "    \\right]\n",
    "    =\n",
    "    \\left[\n",
    "    \\begin{array}{c}\n",
    "        0 \\\\\n",
    "        0 \\\\\n",
    "        0 \\\\\n",
    "        0 \\\\\n",
    "        0 \\\\\n",
    "        0 \\\\\n",
    "        0 \\\\\n",
    "        0 \\\\\n",
    "        9 \\\\\n",
    "    \\end{array}\n",
    "    \\right]\n",
    "\\end{equation}"
   ]
  },
  {
   "cell_type": "code",
   "execution_count": 18,
   "id": "d1b60db6",
   "metadata": {},
   "outputs": [],
   "source": [
    "oneloops_coefficient: tf.Tensor = tf.constant([[3.0, -1.0, 0.0, -1.0, 0.0, 0.0, 0.0, 0.0, 0.0], \n",
    "                                               [-1.0, 4.0, -1.0, 0.0, -1.0, 0.0, 0.0, 0.0, 0.0],\n",
    "                                               [0.0, -1.0, 3.0, 0.0, 0.0, -1.0, 0.0, 0.0, 0.0],\n",
    "                                               [-1.0, 0.0, 0.0, 4.0, -1.0, 0.0, -1.0, 0.0, 0.0],\n",
    "                                               [0.0, -1.0, 0.0, -1.0, 4.0, -1.0, 0.0, -1.0, 0.0],\n",
    "                                               [0.0, 0.0, -1.0, 0.0, -1.0, 4.0, 0.0, 0.0, -1.0],\n",
    "                                               [0.0, 0.0, 0.0, -1.0, 0.0, 0.0, 3.0, -1.0, 0.0],\n",
    "                                               [0.0, 0.0, 0.0, 0.0, -1.0, 0.0, -1.0, 4.0, -1.0],\n",
    "                                               [0.0, 0.0, 0.0, 0.0, 0.0, -1.0, 0.0, -1.0, 3.0]\n",
    "                                              ])\n",
    "oneloops_b_matrix: tf.Tensor = tf.constant([[0.0], [0.0], [0.0], [0.0], [0.0], [0.0], [0.0], [0.0], [9.0]])"
   ]
  },
  {
   "cell_type": "code",
   "execution_count": 19,
   "id": "c8958890",
   "metadata": {},
   "outputs": [],
   "source": [
    "one_loops_solution = tf.Tensor = solve_for_x(oneloops_coefficient, oneloops_b_matrix)"
   ]
  },
  {
   "cell_type": "code",
   "execution_count": 20,
   "id": "dc704f8e",
   "metadata": {},
   "outputs": [
    {
     "name": "stdout",
     "output_type": "stream",
     "text": [
      "tf.Tensor(\n",
      "[[0.30000004]\n",
      " [0.45000008]\n",
      " [0.6       ]\n",
      " [0.45000005]\n",
      " [0.90000015]\n",
      " [1.35      ]\n",
      " [0.60000014]\n",
      " [1.3500001 ]\n",
      " [3.9       ]], shape=(9, 1), dtype=float32)\n"
     ]
    }
   ],
   "source": [
    "print(one_loops_solution)"
   ]
  },
  {
   "cell_type": "markdown",
   "id": "a2e2859f",
   "metadata": {},
   "source": [
    "# Exercise 1.2.20"
   ]
  },
  {
   "cell_type": "markdown",
   "id": "06f10661",
   "metadata": {},
   "source": [
    "##### part(a)"
   ]
  },
  {
   "cell_type": "markdown",
   "id": "06b9f442",
   "metadata": {},
   "source": [
    "$$(k_{1}+k_{2})x_{1}-k_{2}x_{2}...+0x_{n-2}+0x_{n-1}+0x_{n}=f_{1}$$\n",
    "$$-k_{2}x_{1}+(k_{2}+k_{3})x_{2}-k_{3}x_{3}...+0x_{n-2}+0x_{n-1}+0x_{n}=f_{2}$$\n",
    "$$0x_{1}-(k_{3})x_{2}++(k_{3}+k_{4})x_{3}-k_{4})x_{4}...+0x_{n-2}+0x_{n-1}+0x_{n}=f_{3}$$\n",
    "$$0x_{1}-0x_{2}...-k_{n-1}x_{n-2}+(k_{n-1}+k_{n})x_{n-1}-k_{n}x_{n}=f_{n-1}$$\n",
    "$$(k_{1}+k_{2})x_{1}-(k_{2})x_{2}...+0x_{n-2}+k_{n}x_{n-1}+(k_{n-1}+k_{n})x_{n}=f_{n}$$"
   ]
  },
  {
   "cell_type": "markdown",
   "id": "cba2af84",
   "metadata": {},
   "source": [
    "\\begin{equation}\n",
    "    \\left[\n",
    "    \\begin{array}{ccccccc}\n",
    "        k_{1}+k_{2} & -k_{2} & 0 & 0 & 0 & 0 & 0 & 0\\\\\n",
    "        -k_{2} & k_{2}+k_{3} & -k_{3} & 0 & 0 & 0 & 0 & 0\\\\\n",
    "        0 & -k_{3} & k_{3}+k_{4} & -k_{4} & 0 & 0 & 0 & 0\\\\\n",
    "        . & . & . & . & . & . & . & .\\\\\n",
    "        . & . & . & . & . & . & . & .\\\\\n",
    "        . & . & . & . & . & . & . & .\\\\\n",
    "        0 & 0 & 0 & 0 & 0 & -k_{n-1} & k_{n-1}+k_{n} & -k_{n}\\\\\n",
    "        0 & 0 & 0 & 0 & 0 & 0 & -k_{n} & k_{n-1}+k_{n}\\\\\n",
    "    \\end{array}\n",
    "    \\right]\n",
    "    \\left[\n",
    "    \\begin{array}{c}\n",
    "        x_{1} \\\\\n",
    "        x_{2} \\\\\n",
    "        x_{3} \\\\\n",
    "        . \\\\\n",
    "        . \\\\\n",
    "        . \\\\\n",
    "        x_{n-1} \\\\\n",
    "        x_{n} \\\\\n",
    "    \\end{array}\n",
    "    \\right]\n",
    "    =\n",
    "    \\left[\n",
    "    \\begin{array}{c}\n",
    "        f_{1} \\\\\n",
    "        f_{2} \\\\\n",
    "        f_{3} \\\\\n",
    "        . \\\\\n",
    "        . \\\\\n",
    "        . \\\\\n",
    "        f_{n-1} \\\\\n",
    "        f_{n} \\\\\n",
    "    \\end{array}\n",
    "    \\right]\n",
    "\\end{equation}"
   ]
  },
  {
   "cell_type": "markdown",
   "id": "4b9ce230",
   "metadata": {},
   "source": [
    "##### part(b)"
   ]
  },
  {
   "cell_type": "markdown",
   "id": "4c55baca",
   "metadata": {},
   "source": [
    "\\begin{equation}\n",
    "    \\left[\n",
    "    \\begin{array}{cccccccccccccccccccc}\n",
    "        2 & -1 & 0 & 0 & 0 & 0 & 0 & 0 & 0 & 0 & 0 & 0 & 0 & 0 & 0 & 0 & 0 & 0 & 0 & 0\\\\\n",
    "        -1 & 2 & -1 & 0 & 0 & 0 & 0 & 0 & 0 & 0 & 0 & 0 & 0 & 0 & 0 & 0 & 0 & 0 & 0 & 0\\\\\n",
    "        0 & -1 & 2 & -1 & 0 & 0 & 0 & 0 & 0 & 0 & 0 & 0 & 0 & 0 & 0 & 0 & 0 & 0 & 0 & 0\\\\\n",
    "        0 & 0 & -1 & 2 & -1 & 0 & 0 & 0 & 0 & 0 & 0 & 0 & 0 & 0 & 0 & 0 & 0 & 0 & 0 & 0\\\\\n",
    "        0 & 0 & 0 & -1 & 2 & -1 & 0 & 0 & 0 & 0 & 0 & 0 & 0 & 0 & 0 & 0 & 0 & 0 & 0 & 0\\\\\n",
    "        0 & 0 & 0 & 0 & -1 & 2 & -1 & 0 & 0 & 0 & 0 & 0 & 0 & 0 & 0 & 0 & 0 & 0 & 0 & 0\\\\\n",
    "        0 & 0 & 0 & 0 & 0 & -1 & 2 & -1 & 0 & 0 & 0 & 0 & 0 & 0 & 0 & 0 & 0 & 0 & 0 & 0\\\\\n",
    "        0 & 0 & 0 & 0 & 0 & 0 & -1 & 2 & -1 & 0 & 0 & 0 & 0 & 0 & 0 & 0 & 0 & 0 & 0 & 0\\\\\n",
    "        0 & 0 & 0 & 0 & 0 & 0 & 0 & -1 & 2 & -1 & 0 & 0 & 0 & 0 & 0 & 0 & 0 & 0 & 0 & 0\\\\\n",
    "        0 & 0 & 0 & 0 & 0 & 0 & 0 & 0 & -1 & 2 & -1 & 0 & 0 & 0 & 0 & 0 & 0 & 0 & 0 & 0\\\\\n",
    "        0 & 0 & 0 & 0 & 0 & 0 & 0 & 0 & 0 & -1 & 2 & -1 & 0 & 0 & 0 & 0 & 0 & 0 & 0 & 0\\\\\n",
    "        0 & 0 & 0 & 0 & 0 & 0 & 0 & 0 & 0 & 0 & -1 & 2 & -1 & 0 & 0 & 0 & 0 & 0 & 0 & 0\\\\\n",
    "        0 & 0 & 0 & 0 & 0 & 0 & 0 & 0 & 0 & 0 & 0 & -1 & 2 & -1 & 0 & 0 & 0 & 0 & 0 & 0\\\\\n",
    "        0 & 0 & 0 & 0 & 0 & 0 & 0 & 0 & 0 & 0 & 0 & 0 & -1 & 2 & -1 & 0 & 0 & 0 & 0 & 0\\\\\n",
    "        0 & 0 & 0 & 0 & 0 & 0 & 0 & 0 & 0 & 0 & 0 & 0 & 0 & -1 & 2 & -1 & 0 & 0 & 0 & 0\\\\\n",
    "        0 & 0 & 0 & 0 & 0 & 0 & 0 & 0 & 0 & 0 & 0 & 0 & 0 & 0 & -1 & 2 & -1 & 0 & 0 & 0\\\\\n",
    "        0 & 0 & 0 & 0 & 0 & 0 & 0 & 0 & 0 & 0 & 0 & 0 & 0 & 0 & 0 & -1 & 2 & -1 & 0 & 0\\\\\n",
    "        0 & 0 & 0 & 0 & 0 & 0 & 0 & 0 & 0 & 0 & 0 & 0 & 0 & 0 & 0 & 0 & -1 & 2 & -1 & 0\\\\\n",
    "        0 & 0 & 0 & 0 & 0 & 0 & 0 & 0 & 0 & 0 & 0 & 0 & 0 & 0 & 0 & 0 & 0 & -1 & 2 & -1\\\\\n",
    "        0 & 0 & 0 & 0 & 0 & 0 & 0 & 0 & 0 & 0 & 0 & 0 & 0 & 0 & 0 & 0 & 0 & 0 & -1 & 2\\\\\n",
    "    \\end{array}\n",
    "    \\right]\n",
    "    \\left[\n",
    "    \\begin{array}{c}\n",
    "        x_{1} \\\\\n",
    "        x_{2} \\\\\n",
    "        x_{3} \\\\\n",
    "        x_{4} \\\\\n",
    "        x_{5} \\\\\n",
    "        x_{6} \\\\\n",
    "        x_{7} \\\\\n",
    "        x_{8} \\\\\n",
    "        x_{9} \\\\\n",
    "        x_{10} \\\\\n",
    "        x_{11} \\\\\n",
    "        x_{12} \\\\\n",
    "        x_{13} \\\\\n",
    "        x_{14} \\\\\n",
    "        x_{15} \\\\\n",
    "        x_{16} \\\\\n",
    "        x_{17} \\\\\n",
    "        x_{18} \\\\\n",
    "        x_{19} \\\\\n",
    "        x_{20} \\\\\n",
    "    \\end{array}\n",
    "    \\right]\n",
    "        =\n",
    "    \\left[\n",
    "    \\begin{array}{c}\n",
    "        0 \\\\\n",
    "        0 \\\\\n",
    "        0 \\\\\n",
    "        0 \\\\\n",
    "        1 \\\\\n",
    "        0 \\\\\n",
    "        0 \\\\\n",
    "        0 \\\\\n",
    "        0 \\\\\n",
    "        0 \\\\\n",
    "        0 \\\\\n",
    "        0 \\\\\n",
    "        0 \\\\\n",
    "        0 \\\\\n",
    "        0 \\\\\n",
    "        -1 \\\\\n",
    "        0 \\\\\n",
    "        0 \\\\\n",
    "        0 \\\\\n",
    "        0 \\\\\n",
    "    \\end{array}\n",
    "    \\right]\n",
    "\\end{equation}"
   ]
  },
  {
   "cell_type": "code",
   "execution_count": 21,
   "id": "c5d30414",
   "metadata": {},
   "outputs": [],
   "source": [
    "twentysprings_coefficient: tf.Tensor = tf.constant([\n",
    "    [2.0, -1.0, 0.0, 0.0, 0.0, 0.0, 0.0, 0.0, 0.0, 0.0, 0.0, 0.0, 0.0, 0.0, 0.0, 0.0, 0.0, 0.0, 0.0, 0.0],\n",
    "    [-1.0, 2.0, -1.0, 0.0, 0.0, 0.0, 0.0, 0.0, 0.0, 0.0, 0.0, 0.0, 0.0, 0.0, 0.0, 0.0, 0.0, 0.0, 0.0, 0.0], \n",
    "    [0.0, -1.0, 2.0, -1.0, 0.0, 0.0, 0.0, 0.0, 0.0, 0.0, 0.0, 0.0, 0.0, 0.0, 0.0, 0.0, 0.0, 0.0, 0.0, 0.0],\n",
    "    [0.0, 0.0, -1.0, 2.0, -1.0, 0.0, 0.0, 0.0, 0.0, 0.0, 0.0, 0.0, 0.0, 0.0, 0.0, 0.0, 0.0, 0.0, 0.0, 0.0], \n",
    "    [0.0, 0.0, 0.0, -1.0, 2.0, -1.0, 0.0, 0.0, 0.0, 0.0, 0.0, 0.0, 0.0, 0.0, 0.0, 0.0, 0.0, 0.0, 0.0, 0.0],\n",
    "    [0.0, 0.0, 0.0, 0.0, -1.0, 2.0, -1.0, 0.0, 0.0, 0.0, 0.0, 0.0, 0.0, 0.0, 0.0, 0.0, 0.0, 0.0, 0.0, 0.0], \n",
    "    [0.0, 0.0, 0.0, 0.0, 0.0, -1.0, 2.0, -1.0, 0.0, 0.0, 0.0, 0.0, 0.0, 0.0, 0.0, 0.0, 0.0, 0.0, 0.0, 0.0], \n",
    "    [0.0, 0.0, 0.0, 0.0, 0.0, 0.0, -1.0, 2.0, -1.0, 0.0, 0.0, 0.0, 0.0, 0.0, 0.0, 0.0, 0.0, 0.0, 0.0, 0.0], \n",
    "    [0.0, 0.0, 0.0, 0.0, 0.0, 0.0, 0.0, -1.0, 2.0, -1.0, 0.0, 0.0, 0.0, 0.0, 0.0, 0.0, 0.0, 0.0, 0.0, 0.0], \n",
    "    [0.0, 0.0, 0.0, 0.0, 0.0, 0.0, 0.0, 0.0, -1.0, 2.0, -1.0, 0.0, 0.0, 0.0, 0.0, 0.0, 0.0, 0.0, 0.0, 0.0],\n",
    "    [0.0, 0.0, 0.0, 0.0, 0.0, 0.0, 0.0, 0.0, 0.0, -1.0, 2.0, -1.0, 0.0, 0.0, 0.0, 0.0, 0.0, 0.0, 0.0, 0.0], \n",
    "    [0.0, 0.0, 0.0, 0.0, 0.0, 0.0, 0.0, 0.0, 0.0, 0.0, -1.0, 2.0, -1.0, 0.0, 0.0, 0.0, 0.0, 0.0, 0.0, 0.0], \n",
    "    [0.0, 0.0, 0.0, 0.0, 0.0, 0.0, 0.0, 0.0, 0.0, 0.0, 0.0, -1.0, 2.0, -1.0, 0.0, 0.0, 0.0, 0.0, 0.0, 0.0], \n",
    "    [0.0, 0.0, 0.0, 0.0, 0.0, 0.0, 0.0, 0.0, 0.0, 0.0, 0.0, 0.0, -1.0, 2.0, -1.0, 0.0, 0.0, 0.0, 0.0, 0.0],\n",
    "    [0.0, 0.0, 0.0, 0.0, 0.0, 0.0, 0.0, 0.0, 0.0, 0.0, 0.0, 0.0, 0.0, -1.0, 2.0, -1.0, 0.0, 0.0, 0.0, 0.0], \n",
    "    [0.0, 0.0, 0.0, 0.0, 0.0, 0.0, 0.0, 0.0, 0.0, 0.0, 0.0, 0.0, 0.0, 0.0, -1.0, 2.0, -1.0, 0.0, 0.0, 0.0], \n",
    "    [0.0, 0.0, 0.0, 0.0, 0.0, 0.0, 0.0, 0.0, 0.0, 0.0, 0.0, 0.0, 0.0, 0.0, 0.0, -1.0, 2.0, -1.0, 0.0, 0.0],\n",
    "    [0.0, 0.0, 0.0, 0.0, 0.0, 0.0, 0.0, 0.0, 0.0, 0.0, 0.0, 0.0, 0.0, 0.0, 0.0, 0.0, -1.0, 2.0, -1.0, 0.0], \n",
    "    [0.0, 0.0, 0.0, 0.0, 0.0, 0.0, 0.0, 0.0, 0.0, 0.0, 0.0, 0.0, 0.0, 0.0, 0.0, 0.0, 0.0, -1.0, 2.0, -1.0], \n",
    "    [0.0, 0.0, 0.0, 0.0, 0.0, 0.0, 0.0, 0.0, 0.0, 0.0, 0.0, 0.0, 0.0, 0.0, 0.0, 0.0, 0.0, 0.0, -1.0, 2.0]])\n",
    "    \n",
    "twentysprings_b_matrix: tf.Tensor = tf.constant([\n",
    "    [0.0], [0.0], [0.0], [0.0], [1.0], [0.0], [0.0], [0.0], [0.0], [0.0], \n",
    "    [0.0], [0.0], [0.0], [0.0], [0.0], [-1.0], [0.0], [0.0], [0.0], [0.0]])"
   ]
  },
  {
   "cell_type": "code",
   "execution_count": 22,
   "id": "cf37ce11",
   "metadata": {},
   "outputs": [],
   "source": [
    "twentysprings_solution = tf.Tensor = solve_for_x(twentysprings_coefficient, twentysprings_b_matrix)"
   ]
  },
  {
   "cell_type": "code",
   "execution_count": 23,
   "id": "a36700f8",
   "metadata": {},
   "outputs": [
    {
     "name": "stdout",
     "output_type": "stream",
     "text": [
      "tf.Tensor(\n",
      "[[ 0.5238095 ]\n",
      " [ 1.047619  ]\n",
      " [ 1.5714284 ]\n",
      " [ 2.0952377 ]\n",
      " [ 2.6190472 ]\n",
      " [ 2.1428566 ]\n",
      " [ 1.6666663 ]\n",
      " [ 1.190476  ]\n",
      " [ 0.7142855 ]\n",
      " [ 0.23809503]\n",
      " [-0.23809545]\n",
      " [-0.7142859 ]\n",
      " [-1.1904764 ]\n",
      " [-1.6666669 ]\n",
      " [-2.1428573 ]\n",
      " [-2.6190476 ]\n",
      " [-2.0952382 ]\n",
      " [-1.5714287 ]\n",
      " [-1.0476191 ]\n",
      " [-0.5238096 ]], shape=(20, 1), dtype=float32)\n"
     ]
    }
   ],
   "source": [
    "print(twentysprings_solution)"
   ]
  }
 ],
 "metadata": {
  "kernelspec": {
   "display_name": "Python 3",
   "language": "python",
   "name": "python3"
  }
 },
 "nbformat": 4,
 "nbformat_minor": 5
}
