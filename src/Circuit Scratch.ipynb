{
 "cells": [
  {
   "cell_type": "code",
   "execution_count": 20,
   "id": "40460e84",
   "metadata": {},
   "outputs": [],
   "source": [
    "import numpy as np\n",
    "import tensorflow as tf\n",
    "from sympy import solve\n",
    "from sympy import Number\n",
    "from sympy.abc import a, b, c, d, e, f, g, I\n",
    "from sympy.core.add import Add\n",
    "from sympy.core.symbol import Symbol\n",
    "from typing import List, Dict\n",
    "from dataclasses import dataclass, field\n",
    "from functools import reduce\n",
    "from IPython.display import display, Image"
   ]
  },
  {
   "cell_type": "code",
   "execution_count": 2,
   "id": "723140f0",
   "metadata": {},
   "outputs": [
    {
     "name": "stdout",
     "output_type": "stream",
     "text": [
      "[0.5*a - 0.5*b]\n",
      "<class 'sympy.core.add.Add'>\n",
      "[0.1*a - 0.1*d]\n",
      "<class 'sympy.core.add.Add'>\n"
     ]
    }
   ],
   "source": [
    "for expression in [0.5*(a - b) - I, 0.1*(a - d) - I]:\n",
    "    print(solve(expression, I))\n",
    "    print(type(solve(expression, I)[0]))"
   ]
  },
  {
   "cell_type": "code",
   "execution_count": 4,
   "id": "35400b7a",
   "metadata": {},
   "outputs": [
    {
     "data": {
      "text/plain": [
       "CircuitNode(label='x5', resistor_exprs=[-I - 0.5*b + 0.5*e, -I - 0.1*d + 0.1*e, -I + 0.5*e - 0.5*f, -I + 0.1*e - 0.9], current_symbol=I, node_expr=-0.5*b - 0.1*d + 1.2*e - 0.5*f - 0.9)"
      ]
     },
     "execution_count": 4,
     "metadata": {},
     "output_type": "execute_result"
    }
   ],
   "source": [
    "@dataclass\n",
    "class CircuitNode:\n",
    "    label: str\n",
    "    resistor_exprs: List[Add]\n",
    "    current_symbol: Symbol\n",
    "    node_expr: Add = field(default_factory=Add)\n",
    "\n",
    "    def __post_init__(self) -> None:\n",
    "        has_c_symbol: Dict[int, bool] = {\n",
    "            idx: le.has(self.current_symbol) for idx, le in enumerate(self.resistor_exprs)\n",
    "        }\n",
    "        if not all(has_c_symbol.values()):\n",
    "            missing_symbol: Dict[int, bool] = {\n",
    "                idx: test_val for idx, test_val in has_c_symbol.items() if not test_val\n",
    "            }\n",
    "            msg: str = f\"\"\"\n",
    "            All resistor expressions must contain the current symbol!\n",
    "            The following do not:\n",
    "            {missing_symbol}\n",
    "            \"\"\"\n",
    "            raise ValueError(msg)\n",
    "            \n",
    "        current_expressions: List[Add] = CircuitNode.solve_for_current(self.resistor_exprs)\n",
    "        self.node_expr: Add = CircuitNode.combine_resistor_exprs(current_expressions)\n",
    "\n",
    "    @staticmethod\n",
    "    def solve_for_current(resistor_exprs: List[Add]) -> List[Add]:\n",
    "        out: List[Add] = list(map(lambda le: solve(le, I)[0], resistor_exprs))\n",
    "        return out\n",
    "    \n",
    "    @staticmethod\n",
    "    def combine_resistor_exprs(resistor_exprs: List[Add]) -> Add:\n",
    "        out: Add = reduce(lambda first, second: first + second, resistor_exprs)\n",
    "        return out\n",
    "\n",
    "x5: CircuitNode = CircuitNode(\"x5\", [0.5*(e - b) - I, 0.1*(e - d) - I, .5*(e - f) - I, .1*(e - 9) - I], I)\n",
    "    \n",
    "x5"
   ]
  },
  {
   "cell_type": "code",
   "execution_count": 5,
   "id": "c16b71f4",
   "metadata": {},
   "outputs": [
    {
     "data": {
      "text/plain": [
       "[0.5*a - 0.5*b, 0.1*a - 0.1*d]"
      ]
     },
     "execution_count": 5,
     "metadata": {},
     "output_type": "execute_result"
    }
   ],
   "source": [
    "CircuitNode.solve_for_current(x1.resistor_exprs)"
   ]
  },
  {
   "cell_type": "code",
   "execution_count": 11,
   "id": "9448fb19",
   "metadata": {},
   "outputs": [
    {
     "data": {
      "text/latex": [
       "$\\displaystyle - 0.5 b - 0.1 d + 1.2 e - 0.5 f - 0.9$"
      ],
      "text/plain": [
       "-0.5*b - 0.1*d + 1.2*e - 0.5*f - 0.9"
      ]
     },
     "execution_count": 11,
     "metadata": {},
     "output_type": "execute_result"
    }
   ],
   "source": [
    "x5.node_expr"
   ]
  },
  {
   "cell_type": "code",
   "execution_count": 21,
   "id": "6e5416ce",
   "metadata": {},
   "outputs": [
    {
     "data": {
      "text/plain": [
       "{-0.900000000000000, -0.500000000000000, -0.100000000000000, 1.20000000000000}"
      ]
     },
     "execution_count": 21,
     "metadata": {},
     "output_type": "execute_result"
    }
   ],
   "source": [
    "x5.node_expr.atoms(Number)"
   ]
  },
  {
   "cell_type": "code",
   "execution_count": null,
   "id": "a6cf6c11",
   "metadata": {},
   "outputs": [],
   "source": []
  }
 ],
 "metadata": {
  "kernelspec": {
   "display_name": "Python 3",
   "language": "python",
   "name": "python3"
  },
  "language_info": {
   "codemirror_mode": {
    "name": "ipython",
    "version": 3
   },
   "file_extension": ".py",
   "mimetype": "text/x-python",
   "name": "python",
   "nbconvert_exporter": "python",
   "pygments_lexer": "ipython3",
   "version": "3.7.10"
  }
 },
 "nbformat": 4,
 "nbformat_minor": 5
}
