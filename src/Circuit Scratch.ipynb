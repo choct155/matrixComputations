{
 "cells": [
  {
   "cell_type": "code",
   "execution_count": 121,
   "id": "2366d8df",
   "metadata": {},
   "outputs": [],
   "source": [
    "import numpy as np\n",
    "import tensorflow as tf\n",
    "from sympy import solve\n",
    "from sympy import Number, Poly\n",
    "from sympy.abc import a, b, c, d, e, f, g, I\n",
    "from sympy.core.add import Add\n",
    "from sympy.core.symbol import Symbol\n",
    "from typing import List, Dict\n",
    "from dataclasses import dataclass, field\n",
    "from functools import reduce\n",
    "from IPython.display import display, Image"
   ]
  },
  {
   "cell_type": "code",
   "execution_count": 51,
   "id": "0a319abc",
   "metadata": {},
   "outputs": [
    {
     "name": "stdout",
     "output_type": "stream",
     "text": [
      "[0.5*a - 0.5*b]\n",
      "<class 'sympy.core.add.Add'>\n",
      "[0.1*a - 0.1*d]\n",
      "<class 'sympy.core.add.Add'>\n"
     ]
    }
   ],
   "source": [
    "for expression in [0.5*(a - b) - I, 0.1*(a - d) - I]:\n",
    "    print(solve(expression, I))\n",
    "    print(type(solve(expression, I)[0]))"
   ]
  },
  {
   "cell_type": "code",
   "execution_count": 93,
   "id": "21912388",
   "metadata": {},
   "outputs": [
    {
     "data": {
      "text/plain": [
       "CircuitNode(label='x5', resistor_exprs=[-I - 0.5*b + 0.5*e, -I - 0.1*d + 0.1*e, -I + 0.5*e - 0.5*f, -I + 0.1*e - 0.9], current_symbol=I, node_expr=-0.5*b - 0.1*d + 1.2*e - 0.5*f - 0.9)"
      ]
     },
     "execution_count": 93,
     "metadata": {},
     "output_type": "execute_result"
    }
   ],
   "source": [
    "@dataclass\n",
    "class CircuitNode:\n",
    "    label: str\n",
    "    resistor_exprs: List[Add]\n",
    "    current_symbol: Symbol\n",
    "    node_expr: Add = field(default_factory=Add)\n",
    "    \n",
    "    def __post_init__(self) -> None:\n",
    "        has_c_symbol: Dict[int, bool] = {\n",
    "            idx: le.has(self.current_symbol) for idx, le in enumerate(self.resistor_exprs)\n",
    "        }\n",
    "        if not all(has_c_symbol.values()):\n",
    "            missing_symbol: Dict[int, bool] = {\n",
    "                idx: test_val for idx, test_val in has_c_symbol.items() if not test_val\n",
    "            }\n",
    "            msg: str = f\"\"\"\n",
    "            All resistor expressions must contain the current symbol!\n",
    "            The following do not:\n",
    "            {missing_symbol}\n",
    "            \"\"\"\n",
    "            raise ValueError(msg)\n",
    "            \n",
    "        current_expressions: List[Add] = CircuitNode.solve_for_current(self.resistor_exprs)\n",
    "        self.node_expr: Add = CircuitNode.combine_resistor_exprs(current_expressions)\n",
    "\n",
    "    @staticmethod\n",
    "    def solve_for_current(resistor_exprs: List[Add]) -> List[Add]:\n",
    "        out: List[Add] = list(map(lambda le: solve(le, I)[0], resistor_exprs))\n",
    "        return out\n",
    "    \n",
    "    @staticmethod\n",
    "    def combine_resistor_exprs(resistor_exprs: List[Add]) -> Add:\n",
    "        out: Add = reduce(lambda first, second: first + second, resistor_exprs)\n",
    "        return out\n",
    "\n",
    "x5: CircuitNode = CircuitNode(\"x5\", [0.5*(e - b) - I, 0.1*(e - d) - I, .5*(e - f) - I, .1*(e - 9) - I], I)\n",
    "    \n",
    "x5"
   ]
  },
  {
   "cell_type": "code",
   "execution_count": 28,
   "id": "da6c3b08",
   "metadata": {},
   "outputs": [
    {
     "data": {
      "text/latex": [
       "$\\displaystyle - 0.5 b - 0.1 d + 1.2 e - 0.5 f - 0.9$"
      ],
      "text/plain": [
       "-0.5*b - 0.1*d + 1.2*e - 0.5*f - 0.9"
      ]
     },
     "execution_count": 28,
     "metadata": {},
     "output_type": "execute_result"
    }
   ],
   "source": [
    "x5.node_expr"
   ]
  },
  {
   "cell_type": "code",
   "execution_count": 30,
   "id": "84c71ded",
   "metadata": {},
   "outputs": [
    {
     "name": "stdout",
     "output_type": "stream",
     "text": [
      "My value is 3\n"
     ]
    }
   ],
   "source": [
    "class dumb:\n",
    "    def __init__(self, x):\n",
    "        self.x = x\n",
    "        \n",
    "    def __repr__(self):\n",
    "        return f\"My value is {self.x}\"\n",
    "        \n",
    "mydumb = dumb(3)\n",
    "print(mydumb)\n",
    "        "
   ]
  },
  {
   "cell_type": "code",
   "execution_count": 5,
   "id": "c6130099",
   "metadata": {},
   "outputs": [
    {
     "data": {
      "text/plain": [
       "[0.5*a - 0.5*b, 0.1*a - 0.1*d]"
      ]
     },
     "execution_count": 5,
     "metadata": {},
     "output_type": "execute_result"
    }
   ],
   "source": [
    "CircuitNode.solve_for_current(x1.resistor_exprs)"
   ]
  },
  {
   "cell_type": "code",
   "execution_count": 75,
   "id": "3757b2b1",
   "metadata": {},
   "outputs": [
    {
     "data": {
      "text/latex": [
       "$\\displaystyle - 0.5 b - 0.1 d + 1.2 e - 0.5 f - 0.9$"
      ],
      "text/plain": [
       "-0.5*b - 0.1*d + 1.2*e - 0.5*f - 0.9"
      ]
     },
     "execution_count": 75,
     "metadata": {},
     "output_type": "execute_result"
    }
   ],
   "source": [
    "x5_expr = x5.node_expr\n",
    "x5_expr"
   ]
  },
  {
   "cell_type": "code",
   "execution_count": 21,
   "id": "a4c909cf",
   "metadata": {},
   "outputs": [
    {
     "data": {
      "text/plain": [
       "{-0.900000000000000, -0.500000000000000, -0.100000000000000, 1.20000000000000}"
      ]
     },
     "execution_count": 21,
     "metadata": {},
     "output_type": "execute_result"
    }
   ],
   "source": [
    "x5.node_expr.atoms(Number)"
   ]
  },
  {
   "cell_type": "code",
   "execution_count": 127,
   "id": "32a9f386",
   "metadata": {},
   "outputs": [
    {
     "data": {
      "text/plain": [
       "sympy.core.symbol.Symbol"
      ]
     },
     "execution_count": 127,
     "metadata": {},
     "output_type": "execute_result"
    }
   ],
   "source": [
    "type(b)"
   ]
  },
  {
   "cell_type": "code",
   "execution_count": 128,
   "id": "c8cb649b",
   "metadata": {},
   "outputs": [
    {
     "data": {
      "text/plain": [
       "sympy.core.add.Add"
      ]
     },
     "execution_count": 128,
     "metadata": {},
     "output_type": "execute_result"
    }
   ],
   "source": [
    "type(a+b)"
   ]
  },
  {
   "cell_type": "code",
   "execution_count": 47,
   "id": "7022ecfe",
   "metadata": {},
   "outputs": [
    {
     "data": {
      "text/latex": [
       "$\\displaystyle -0.9$"
      ],
      "text/plain": [
       "-0.900000000000000"
      ]
     },
     "execution_count": 47,
     "metadata": {},
     "output_type": "execute_result"
    }
   ],
   "source": [
    "x5.node_expr.coeff(b, 0).coeff(a, 0).coeff(c, 0).coeff(d, 0).coeff(e, 0).coeff(f, 0)"
   ]
  },
  {
   "cell_type": "code",
   "execution_count": 54,
   "id": "75756708",
   "metadata": {},
   "outputs": [],
   "source": [
    "x5.node_expr.collect?"
   ]
  },
  {
   "cell_type": "code",
   "execution_count": 125,
   "id": "b37c496e",
   "metadata": {},
   "outputs": [],
   "source": [
    "key_list = ['a', 'b', 'c', 'd', 'e', 'f', 'g']"
   ]
  },
  {
   "cell_type": "code",
   "execution_count": 126,
   "id": "cc06b5ac",
   "metadata": {},
   "outputs": [
    {
     "data": {
      "text/plain": [
       "['a', 'b', 'c', 'd', 'e', 'f', 'g']"
      ]
     },
     "execution_count": 126,
     "metadata": {},
     "output_type": "execute_result"
    }
   ],
   "source": [
    "a, b, c, d, e, f, g = map(Symbol, key_list)\n",
    "key_list"
   ]
  },
  {
   "cell_type": "code",
   "execution_count": 138,
   "id": "b6d61c4d",
   "metadata": {},
   "outputs": [
    {
     "data": {
      "text/plain": [
       "{1, b, d, e, f}"
      ]
     },
     "execution_count": 138,
     "metadata": {},
     "output_type": "execute_result"
    }
   ],
   "source": [
    "x5_dict = set(x5.node_expr.as_coefficients_dict().keys())\n",
    "x5_dict"
   ]
  },
  {
   "cell_type": "code",
   "execution_count": 140,
   "id": "99875533",
   "metadata": {},
   "outputs": [],
   "source": [
    "set1 = {1, 2, 3}"
   ]
  },
  {
   "cell_type": "code",
   "execution_count": 141,
   "id": "d1ba092d",
   "metadata": {},
   "outputs": [],
   "source": [
    "set2 = {2, 3, 4}"
   ]
  },
  {
   "cell_type": "code",
   "execution_count": 143,
   "id": "11fde6f2",
   "metadata": {},
   "outputs": [
    {
     "data": {
      "text/plain": [
       "{1, 2, 3, 4}"
      ]
     },
     "execution_count": 143,
     "metadata": {},
     "output_type": "execute_result"
    }
   ],
   "source": [
    "set1.union(set2)"
   ]
  },
  {
   "cell_type": "code",
   "execution_count": 111,
   "id": "79c938f1",
   "metadata": {},
   "outputs": [],
   "source": [
    "empty_dict = {'a': 0.0, 'b': 0.0, 'c': 0.0, 'd': 0.0, 'e': 0.0, 'f': 0.0, 'g': 0.0}"
   ]
  },
  {
   "cell_type": "code",
   "execution_count": 112,
   "id": "5e9b0cc1",
   "metadata": {},
   "outputs": [
    {
     "data": {
      "text/plain": [
       "{'a': 0.0, 'b': 0.0, 'c': 0.0, 'd': 0.0, 'e': 0.0, 'f': 0.0, 'g': 0.0, 1: 0.0}"
      ]
     },
     "execution_count": 112,
     "metadata": {},
     "output_type": "execute_result"
    }
   ],
   "source": [
    "empty_dict[1] = 0.0\n",
    "empty_dict"
   ]
  },
  {
   "cell_type": "code",
   "execution_count": 113,
   "id": "cb6c99aa",
   "metadata": {},
   "outputs": [
    {
     "data": {
      "text/plain": [
       "{'a': 0.0,\n",
       " 'b': 0.0,\n",
       " 'c': 0.0,\n",
       " 'd': 0.0,\n",
       " 'e': 0.0,\n",
       " 'f': 0.0,\n",
       " 'g': 0.0,\n",
       " 1: -0.900000000000000,\n",
       " e: 1.20000000000000,\n",
       " b: -0.500000000000000,\n",
       " f: -0.500000000000000,\n",
       " d: -0.100000000000000}"
      ]
     },
     "execution_count": 113,
     "metadata": {},
     "output_type": "execute_result"
    }
   ],
   "source": [
    "empty_dict.update(x5_dict)\n",
    "empty_dict"
   ]
  },
  {
   "cell_type": "code",
   "execution_count": 100,
   "id": "41d308c1",
   "metadata": {},
   "outputs": [
    {
     "data": {
      "text/plain": [
       "[[1, 2, 3, 4], [1, 2, 3, 4]]"
      ]
     },
     "execution_count": 100,
     "metadata": {},
     "output_type": "execute_result"
    }
   ],
   "source": [
    "a = [[1, 2, 3, 4], [1, 2, 3, 4]]\n",
    "a"
   ]
  },
  {
   "cell_type": "code",
   "execution_count": 145,
   "id": "e19f2fa4",
   "metadata": {},
   "outputs": [],
   "source": [
    "test_tensor = tf.constant([1, 2])"
   ]
  },
  {
   "cell_type": "code",
   "execution_count": 146,
   "id": "a76656a1",
   "metadata": {},
   "outputs": [
    {
     "data": {
      "text/plain": [
       "<tf.Tensor: id=5, shape=(), dtype=int32, numpy=2>"
      ]
     },
     "execution_count": 146,
     "metadata": {},
     "output_type": "execute_result"
    }
   ],
   "source": [
    "test_tensor[1]"
   ]
  },
  {
   "cell_type": "code",
   "execution_count": 149,
   "id": "3d76f414",
   "metadata": {},
   "outputs": [
    {
     "data": {
      "text/plain": [
       "<tf.Tensor: id=9, shape=(2,), dtype=int32, numpy=array([1, 3], dtype=int32)>"
      ]
     },
     "execution_count": 149,
     "metadata": {},
     "output_type": "execute_result"
    }
   ],
   "source": [
    "new_tensor = test_tensor + tf.constant([0, 1])\n",
    "new_tensor"
   ]
  },
  {
   "cell_type": "code",
   "execution_count": 101,
   "id": "29c37ad8",
   "metadata": {},
   "outputs": [
    {
     "data": {
      "text/plain": [
       "[4, 4]"
      ]
     },
     "execution_count": 101,
     "metadata": {},
     "output_type": "execute_result"
    }
   ],
   "source": [
    "b = [r.pop(3) for r in a]\n",
    "b"
   ]
  },
  {
   "cell_type": "code",
   "execution_count": 102,
   "id": "0c9d35fd",
   "metadata": {},
   "outputs": [
    {
     "data": {
      "text/plain": [
       "[[1, 2, 3], [1, 2, 3]]"
      ]
     },
     "execution_count": 102,
     "metadata": {},
     "output_type": "execute_result"
    }
   ],
   "source": [
    "a"
   ]
  },
  {
   "cell_type": "code",
   "execution_count": 59,
   "id": "f3be391e",
   "metadata": {},
   "outputs": [],
   "source": [
    "def create_keys(input_circuit: List[int]) -> List:\n",
    "        \"\"\"creates an alphabetical list of keys\"\"\"\n",
    "        number_of_keys: int = len(input_circuit)\n",
    "        key_list: List = []\n",
    "        alpha = 'a'\n",
    "        for i in range(0, number_of_keys):\n",
    "            key_list.append(alpha)\n",
    "            alpha = chr(ord(alpha) + 1)\n",
    "        return key_list"
   ]
  },
  {
   "cell_type": "code",
   "execution_count": 69,
   "id": "2cc17dbb",
   "metadata": {},
   "outputs": [],
   "source": [
    "x: List[int] = [1, 2, 3, 4, 5, 6, 7]"
   ]
  },
  {
   "cell_type": "code",
   "execution_count": 74,
   "id": "8802f120",
   "metadata": {},
   "outputs": [
    {
     "data": {
      "text/plain": [
       "['a', 'b', 'c', 'd', 'e', 'f', 'g']"
      ]
     },
     "execution_count": 74,
     "metadata": {},
     "output_type": "execute_result"
    }
   ],
   "source": [
    "x_c = create_keys(x)\n",
    "x_c"
   ]
  },
  {
   "cell_type": "code",
   "execution_count": 79,
   "id": "cd0a092c",
   "metadata": {},
   "outputs": [],
   "source": [
    "def find_constants(input_expr: Add, key_list: List) -> float:\n",
    "    \"\"\"finds the constant value in a node expression\"\"\"\n",
    "    output_number: float = 0.0\n",
    "    for i in range(0, len(key_list)):\n",
    "        x = key_list[i]\n",
    "        output_number = input_expr.coeff(x, 0)\n",
    "    return 0.0 - output_number"
   ]
  },
  {
   "cell_type": "code",
   "execution_count": 80,
   "id": "bdd28168",
   "metadata": {},
   "outputs": [
    {
     "data": {
      "text/latex": [
       "$\\displaystyle 0.5 b + 0.1 d - 1.2 e + 0.5 f + 0.9$"
      ],
      "text/plain": [
       "0.5*b + 0.1*d - 1.2*e + 0.5*f + 0.9"
      ]
     },
     "execution_count": 80,
     "metadata": {},
     "output_type": "execute_result"
    }
   ],
   "source": [
    "find_constants(x5_expr, x_c)"
   ]
  },
  {
   "cell_type": "code",
   "execution_count": 169,
   "id": "89155adb",
   "metadata": {},
   "outputs": [
    {
     "data": {
      "text/plain": [
       "{'a': 1, 'b': 3, 'c': 5}"
      ]
     },
     "execution_count": 169,
     "metadata": {},
     "output_type": "execute_result"
    }
   ],
   "source": [
    "(lambda a,b: a.update(b) or a)({'a':1, 'b':3},{'c':5})"
   ]
  },
  {
   "cell_type": "code",
   "execution_count": 168,
   "id": "f030d361",
   "metadata": {},
   "outputs": [
    {
     "data": {
      "text/plain": [
       "dict"
      ]
     },
     "execution_count": 168,
     "metadata": {},
     "output_type": "execute_result"
    }
   ],
   "source": [
    "type((lambda a,b: a.update(b) or a)({'a':1, 'b':3},{'c':5}))"
   ]
  },
  {
   "cell_type": "code",
   "execution_count": 171,
   "id": "170ea212",
   "metadata": {},
   "outputs": [
    {
     "data": {
      "text/plain": [
       "NoneType"
      ]
     },
     "execution_count": 171,
     "metadata": {},
     "output_type": "execute_result"
    }
   ],
   "source": [
    "type((lambda a,b: a.update(b))({'a':1, 'b':3},{'c':5}))"
   ]
  },
  {
   "cell_type": "code",
   "execution_count": null,
   "id": "a57350a2",
   "metadata": {},
   "outputs": [],
   "source": []
  }
 ],
 "metadata": {
  "kernelspec": {
   "display_name": "Python 3",
   "language": "python",
   "name": "python3"
  },
  "language_info": {
   "codemirror_mode": {
    "name": "ipython",
    "version": 3
   },
   "file_extension": ".py",
   "mimetype": "text/x-python",
   "name": "python",
   "nbconvert_exporter": "python",
   "pygments_lexer": "ipython3",
   "version": "3.7.10"
  }
 },
 "nbformat": 4,
 "nbformat_minor": 5
}
