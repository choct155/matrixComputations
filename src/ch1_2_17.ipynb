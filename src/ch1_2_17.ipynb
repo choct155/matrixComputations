{
 "cells": [
  {
   "cell_type": "code",
   "execution_count": 31,
   "id": "990b3755",
   "metadata": {},
   "outputs": [
    {
     "name": "stdout",
     "output_type": "stream",
     "text": [
      "The autoreload extension is already loaded. To reload it, use:\n",
      "  %reload_ext autoreload\n"
     ]
    }
   ],
   "source": [
    "import numpy as np\n",
    "import tensorflow as tf\n",
    "from sympy import solve\n",
    "from sympy.abc import a, b, c, d, e, f, g, I\n",
    "from sympy.core.add import Add\n",
    "from sympy.core.symbol import Symbol\n",
    "from typing import List, Dict\n",
    "from dataclasses import dataclass, field\n",
    "from functools import reduce\n",
    "from IPython.display import display, Image\n",
    "from matrixcomp.ch1_2_17 import CircuitNode, Circuit\n",
    "from matrixcomp.ch1_2 import solve_for_x\n",
    "\n",
    "%load_ext autoreload\n",
    "%aimport matrixcomp.ch1_2_17\n",
    "%autoreload 1"
   ]
  },
  {
   "cell_type": "code",
   "execution_count": 32,
   "id": "a773eede",
   "metadata": {},
   "outputs": [],
   "source": [
    " \"\"\"initial expressions for each node\"\"\"\n",
    "x1: CircuitNode = CircuitNode(\"x1\", [0.5*(a - b) - I, 0.1*(a - d) - I], I)\n",
    "x2: CircuitNode = CircuitNode(\"x2\", [0.5*(b - a) - I, 0.2*(b - c) - I, 0.5*(b - e) - I], I)\n",
    "x3: CircuitNode = CircuitNode(\"x3\", [0.2*(c - b) - I, 0.1*(c - f) - I], I)\n",
    "x4: CircuitNode = CircuitNode(\"x4\", [0.1*(d - a) - I, 0.1*(d - e) - I, 0.2*(d - g) - I], I)\n",
    "x5: CircuitNode = CircuitNode(\"x5\", [0.5*(e - b) - I, 0.1*(e - d) - I, 0.5*(e - f) - I, 0.1*(e - 9.0) - I], I)\n",
    "x6: CircuitNode = CircuitNode(\"x6\", [0.5*(f - e) - I, 0.1*(f - c) - I, 0.2*(f - 0.0) - I], I)\n",
    "x7: CircuitNode = CircuitNode(\"x7\", [0.2*(g - d) - I, 0.2*(g - 9) - I], I)"
   ]
  },
  {
   "cell_type": "code",
   "execution_count": 33,
   "id": "10c5f5f5",
   "metadata": {},
   "outputs": [],
   "source": [
    "\"\"\"full list of CircuitNodes\"\"\"\n",
    "x_all: Circuit = [x1, x2, x3, x4, x5, x6, x7]"
   ]
  },
  {
   "cell_type": "code",
   "execution_count": 34,
   "id": "f3d97dcc",
   "metadata": {},
   "outputs": [
    {
     "data": {
      "text/plain": [
       "[CircuitNode(label='x1', resistor_exprs=[-I + 0.5*a - 0.5*b, -I + 0.1*a - 0.1*d], current_symbol=I, node_expr=0.6*a - 0.5*b - 0.1*d),\n",
       " CircuitNode(label='x2', resistor_exprs=[-I - 0.5*a + 0.5*b, -I + 0.2*b - 0.2*c, -I + 0.5*b - 0.5*e], current_symbol=I, node_expr=-0.5*a + 1.2*b - 0.2*c - 0.5*e),\n",
       " CircuitNode(label='x3', resistor_exprs=[-I - 0.2*b + 0.2*c, -I + 0.1*c - 0.1*f], current_symbol=I, node_expr=-0.2*b + 0.3*c - 0.1*f),\n",
       " CircuitNode(label='x4', resistor_exprs=[-I - 0.1*a + 0.1*d, -I + 0.1*d - 0.1*e, -I + 0.2*d - 0.2*g], current_symbol=I, node_expr=-0.1*a + 0.4*d - 0.1*e - 0.2*g),\n",
       " CircuitNode(label='x5', resistor_exprs=[-I - 0.5*b + 0.5*e, -I - 0.1*d + 0.1*e, -I + 0.5*e - 0.5*f, -I + 0.1*e - 0.9], current_symbol=I, node_expr=-0.5*b - 0.1*d + 1.2*e - 0.5*f - 0.9),\n",
       " CircuitNode(label='x6', resistor_exprs=[-I - 0.5*e + 0.5*f, -I - 0.1*c + 0.1*f, -I + 0.2*f], current_symbol=I, node_expr=-0.1*c - 0.5*e + 0.8*f),\n",
       " CircuitNode(label='x7', resistor_exprs=[-I - 0.2*d + 0.2*g, -I + 0.2*g - 1.8], current_symbol=I, node_expr=-0.2*d + 0.4*g - 1.8)]"
      ]
     },
     "execution_count": 34,
     "metadata": {},
     "output_type": "execute_result"
    }
   ],
   "source": [
    "x_all"
   ]
  },
  {
   "cell_type": "code",
   "execution_count": null,
   "id": "d675055f",
   "metadata": {},
   "outputs": [],
   "source": []
  },
  {
   "cell_type": "code",
   "execution_count": null,
   "id": "a8062413",
   "metadata": {},
   "outputs": [],
   "source": []
  }
 ],
 "metadata": {
  "kernelspec": {
   "display_name": "Python 3",
   "language": "python",
   "name": "python3"
  },
  "language_info": {
   "codemirror_mode": {
    "name": "ipython",
    "version": 3
   },
   "file_extension": ".py",
   "mimetype": "text/x-python",
   "name": "python",
   "nbconvert_exporter": "python",
   "pygments_lexer": "ipython3",
   "version": "3.7.10"
  }
 },
 "nbformat": 4,
 "nbformat_minor": 5
}
