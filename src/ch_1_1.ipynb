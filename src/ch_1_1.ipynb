{
 "cells": [
  {
   "cell_type": "code",
   "execution_count": 1,
   "id": "3d842776",
   "metadata": {},
   "outputs": [],
   "source": [
    "from matrixcomp.diag import timed"
   ]
  },
  {
   "cell_type": "markdown",
   "id": "726a0ac4",
   "metadata": {},
   "source": [
    "# Exercise 1.1.20"
   ]
  },
  {
   "cell_type": "markdown",
   "id": "c450b269",
   "metadata": {},
   "source": [
    "\\begin{equation}\n",
    "    A = \n",
    "    \\left[\n",
    "    \\begin{array}{c|cc}\n",
    "        1 & 3 & 2 \\\\\n",
    "        2 & 1 & 1 \\\\\n",
    "        \\hline\n",
    "        -1 & 0 & 1\n",
    "    \\end{array}\n",
    "    \\right]\n",
    "\\end{equation}\n",
    "\n",
    "\\begin{equation}\n",
    "    X = \n",
    "    \\left[\n",
    "    \\begin{array}{c|cc}\n",
    "        1 & 0 & 1 \\\\\n",
    "        \\hline\n",
    "        2 & 1 & 1 \\\\\n",
    "        -1 & 2 & 0\n",
    "    \\end{array}\n",
    "    \\right]\n",
    "\\end{equation}\n",
    "\n",
    "\\begin{equation}\n",
    "    B = \n",
    "    \\left[\n",
    "    \\begin{array}{c|cc}\n",
    "        5 & 7 & 4 \\\\\n",
    "        3 & 3 & 3 \\\\\n",
    "        \\hline\n",
    "        -2 & 2 & -1\n",
    "    \\end{array}\n",
    "    \\right]\n",
    "\\end{equation}"
   ]
  },
  {
   "cell_type": "markdown",
   "id": "e61dc487",
   "metadata": {},
   "source": [
    "$$A_{i1} X_{1j} + A_{i2} X_{2j} = B_{ij} \\text{ for } j = 1, 2$$"
   ]
  },
  {
   "cell_type": "markdown",
   "id": "8fcbfa19",
   "metadata": {},
   "source": [
    "$$A_{11} X_{12} + A_{12} X_{22} = B_{12}$$"
   ]
  },
  {
   "cell_type": "markdown",
   "id": "cf3f82b6",
   "metadata": {},
   "source": [
    "\\begin{equation}\n",
    "    \\left[\n",
    "    \\begin{array}{c}\n",
    "        1 \\\\\n",
    "        2 \\\\\n",
    "    \\end{array}\n",
    "    \\right]\n",
    "    \\left[\n",
    "    \\begin{array}{cc}\n",
    "        0 & 1 \\\\\n",
    "    \\end{array}\n",
    "    \\right]  \n",
    "    +\n",
    "    \\left[\n",
    "    \\begin{array}{cc}\n",
    "        3 & 2 \\\\\n",
    "        1 & 1 \\\\\n",
    "    \\end{array}\n",
    "    \\right]\n",
    "    \\left[\n",
    "    \\begin{array}{cc}\n",
    "        1 & 1 \\\\\n",
    "        2 & 0 \\\\\n",
    "    \\end{array}\n",
    "    \\right]\n",
    "    =\n",
    "    \\left[\n",
    "    \\begin{array}{cc}\n",
    "        7 & 4 \\\\\n",
    "        3 & 3 \\\\\n",
    "    \\end{array}\n",
    "    \\right]\n",
    "\\end{equation}"
   ]
  },
  {
   "cell_type": "markdown",
   "id": "d29ab113",
   "metadata": {},
   "source": [
    "\\begin{equation}\n",
    "    A_{11} X_{12}=\n",
    "    \\left[\n",
    "    \\begin{array}{c}\n",
    "        1 \\\\\n",
    "        2 \\\\\n",
    "    \\end{array}\n",
    "    \\right]\n",
    "    \\left[\n",
    "    \\begin{array}{cc}\n",
    "        0 & 1 \\\\\n",
    "    \\end{array}\n",
    "    \\right]  \n",
    "    =\n",
    "    \\left[\n",
    "    \\begin{array}{cc}\n",
    "        0*1 & 1*1 \\\\\n",
    "        0*2 & 1*2 \\\\\n",
    "    \\end{array}\n",
    "    \\right]\n",
    "    = \n",
    "    \\left[\n",
    "    \\begin{array}{cc}\n",
    "        0 & 1 \\\\\n",
    "        0 & 2 \\\\\n",
    "    \\end{array}\n",
    "    \\right]\n",
    "\\end{equation}"
   ]
  },
  {
   "cell_type": "markdown",
   "id": "c8edbac4",
   "metadata": {},
   "source": [
    "\\begin{equation}\n",
    "    A_{12} X_{22}=\n",
    "        \\left[\n",
    "    \\begin{array}{cc}\n",
    "        3 & 2 \\\\\n",
    "        1 & 1 \\\\\n",
    "    \\end{array}\n",
    "    \\right]\n",
    "    \\left[\n",
    "    \\begin{array}{cc}\n",
    "        1 & 1 \\\\\n",
    "        2 & 0 \\\\\n",
    "    \\end{array}\n",
    "    \\right]\n",
    "    =\n",
    "    \\left[\n",
    "    \\begin{array}{cc}\n",
    "        3 & 2 \\\\\n",
    "        1 & 1 \\\\\n",
    "    \\end{array}\n",
    "    \\right]\n",
    "    \\left[\n",
    "    \\begin{array}{c}\n",
    "        1 \\\\\n",
    "        2 \\\\\n",
    "    \\end{array}\n",
    "    \\right]\n",
    "    .\n",
    "    \\left[\n",
    "    \\begin{array}{cc}\n",
    "        3 & 2 \\\\\n",
    "        1 & 1 \\\\\n",
    "    \\end{array}\n",
    "    \\right]\n",
    "    \\left[\n",
    "    \\begin{array}{c}\n",
    "        1 \\\\\n",
    "        0 \\\\\n",
    "    \\end{array}\n",
    "    \\right]\n",
    "    =\n",
    "    \\left[\n",
    "    \\begin{array}{cc}\n",
    "        (1*3)+(2*2) & (1*3)+(0*2) \\\\\n",
    "        (1*1)+(2*1) & (1*1)+(0*1) \\\\\n",
    "    \\end{array}\n",
    "    \\right]\n",
    "    =     \n",
    "    \\left[\n",
    "    \\begin{array}{cc}\n",
    "        7 & 3 \\\\\n",
    "        3 & 1 \\\\\n",
    "    \\end{array}\n",
    "    \\right]\n",
    "\\end{equation}"
   ]
  },
  {
   "cell_type": "markdown",
   "id": "d8d7f40e",
   "metadata": {},
   "source": [
    "\\begin{equation}\n",
    "    A_{11} X_{12} + A_{12} X_{22}= \n",
    "    \\left[\n",
    "    \\begin{array}{cc}\n",
    "        0 & 1 \\\\\n",
    "        0 & 2 \\\\\n",
    "    \\end{array}\n",
    "    \\right]\n",
    "    +\n",
    "    \\left[\n",
    "    \\begin{array}{cc}\n",
    "        7 & 3 \\\\\n",
    "        3 & 1 \\\\\n",
    "    \\end{array}\n",
    "    \\right]\n",
    "    =\n",
    "    \\left[\n",
    "    \\begin{array}{cc}\n",
    "        7 & 4 \\\\\n",
    "        3 & 3 \\\\\n",
    "    \\end{array}\n",
    "    \\right]\n",
    "\\end{equation}"
   ]
  },
  {
   "cell_type": "code",
   "execution_count": 3,
   "id": "1f546a31",
   "metadata": {},
   "outputs": [
    {
     "name": "stdout",
     "output_type": "stream",
     "text": [
      "[('a', 1)]\n"
     ]
    }
   ],
   "source": [
    "def foo(x: str, **kwargs) -> None:\n",
    "    print(list(kwargs.items()))\n",
    "    \n",
    "foo(\"Hello\", a=1)"
   ]
  },
  {
   "cell_type": "code",
   "execution_count": 4,
   "id": "02935a74",
   "metadata": {},
   "outputs": [
    {
     "data": {
      "text/plain": [
       "<function __main__.foo(x: str, **kwargs) -> None>"
      ]
     },
     "execution_count": 4,
     "metadata": {},
     "output_type": "execute_result"
    }
   ],
   "source": [
    "timed(foo)"
   ]
  },
  {
   "cell_type": "code",
   "execution_count": 5,
   "id": "c210fdc0",
   "metadata": {},
   "outputs": [
    {
     "name": "stdout",
     "output_type": "stream",
     "text": [
      "[('a', 1)]\n",
      "\n",
      "        Executed foo with the following arguments:\n",
      "        Positional: ('Hello',)\n",
      "        Keyword: ['a=1']\n",
      "        Elapsed Time: 0.0004 seconds\n",
      "        \n"
     ]
    },
    {
     "data": {
      "text/plain": [
       "(None, 0.00039196014404296875)"
      ]
     },
     "execution_count": 5,
     "metadata": {},
     "output_type": "execute_result"
    }
   ],
   "source": [
    "timed(foo)(\"Hello\", a=1)"
   ]
  },
  {
   "cell_type": "code",
   "execution_count": 6,
   "id": "926167fa",
   "metadata": {},
   "outputs": [
    {
     "name": "stdout",
     "output_type": "stream",
     "text": [
      "[('a', 1)]\n",
      "\n",
      "        Executed bar with the following arguments:\n",
      "        Positional: ('Hello',)\n",
      "        Keyword: ['a=1']\n",
      "        Elapsed Time: 0.0003 seconds\n",
      "        \n"
     ]
    },
    {
     "data": {
      "text/plain": [
       "(None, 0.00027298927307128906)"
      ]
     },
     "execution_count": 6,
     "metadata": {},
     "output_type": "execute_result"
    }
   ],
   "source": [
    "@timed\n",
    "def bar(x: str, **kwargs) -> None:\n",
    "    print(list(kwargs.items()))\n",
    "\n",
    "bar(\"Hello\", a=1)"
   ]
  },
  {
   "cell_type": "code",
   "execution_count": null,
   "id": "2bcd44f8",
   "metadata": {},
   "outputs": [],
   "source": []
  },
  {
   "cell_type": "code",
   "execution_count": null,
   "id": "f0cc9dac",
   "metadata": {},
   "outputs": [],
   "source": []
  }
 ],
 "metadata": {
  "kernelspec": {
   "display_name": "Python 3",
   "language": "python",
   "name": "python3"
  },
  "language_info": {
   "codemirror_mode": {
    "name": "ipython",
    "version": 3
   },
   "file_extension": ".py",
   "mimetype": "text/x-python",
   "name": "python",
   "nbconvert_exporter": "python",
   "pygments_lexer": "ipython3",
   "version": "3.7.10"
  }
 },
 "nbformat": 4,
 "nbformat_minor": 5
}
